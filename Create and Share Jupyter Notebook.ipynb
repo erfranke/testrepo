{
 "cells": [
  {
   "cell_type": "markdown",
   "id": "3b9e9f32",
   "metadata": {},
   "source": [
    "<h1>Data Science Tools and Ecosystem</h1>"
   ]
  },
  {
   "cell_type": "markdown",
   "id": "12e14c5c",
   "metadata": {},
   "source": [
    "In this notebook, Data Science Tools and Ecosystem are summarized."
   ]
  },
  {
   "cell_type": "markdown",
   "id": "d344ae37",
   "metadata": {},
   "source": [
    "**Objectives**\n",
    "\n",
    "* List popular languages for Data Science\n",
    "* List commonly used libraries that Data Scientists use\n",
    "* List tools that Data Scientists use\n",
    "* Evaluate arithmetic expressions"
   ]
  },
  {
   "cell_type": "markdown",
   "id": "2c352a56",
   "metadata": {},
   "source": [
    "Some of the popular languages that Data Scientists use are:"
   ]
  },
  {
   "cell_type": "markdown",
   "id": "d5d03f97",
   "metadata": {},
   "source": [
    "1. R\n",
    "2. Julia\n",
    "3. Python\n",
    "4. Java\n",
    "5. JavaScript"
   ]
  },
  {
   "cell_type": "markdown",
   "id": "3bdb55a1",
   "metadata": {},
   "source": [
    "Some of the commonly used libraries used by Data Scientists include:\n",
    "\n",
    "1. NumPy\n",
    "2. Tensorflow\n",
    "3. Pandas\n",
    "4. Matplotlib"
   ]
  },
  {
   "cell_type": "markdown",
   "id": "787903ee",
   "metadata": {},
   "source": [
    "|Data Science Tools|\n",
    "|-|\n",
    "|Knime|\n",
    "|Apache Hadoop|\n",
    "|Apache Spark|\n",
    "\n"
   ]
  },
  {
   "cell_type": "markdown",
   "id": "b5d47a6b",
   "metadata": {},
   "source": [
    "### Below are a few examples of evaluating arithmetic expressions in Python\n",
    "***"
   ]
  },
  {
   "cell_type": "code",
   "execution_count": 5,
   "id": "e360945d",
   "metadata": {},
   "outputs": [
    {
     "data": {
      "text/plain": [
       "17"
      ]
     },
     "execution_count": 5,
     "metadata": {},
     "output_type": "execute_result"
    }
   ],
   "source": [
    "# This a simple arithmetic expression to mutiply then add integers\n",
    "(3*4)+5"
   ]
  },
  {
   "cell_type": "code",
   "execution_count": 6,
   "id": "9acfcee6",
   "metadata": {},
   "outputs": [
    {
     "data": {
      "text/plain": [
       "3.3333333333333335"
      ]
     },
     "execution_count": 6,
     "metadata": {},
     "output_type": "execute_result"
    }
   ],
   "source": [
    "# This will convert 200 minutes to hours by diving by 60\n",
    "200/60"
   ]
  },
  {
   "cell_type": "markdown",
   "id": "46e6c14b",
   "metadata": {},
   "source": [
    "## Author\n",
    "\n",
    "Eric Franke"
   ]
  },
  {
   "cell_type": "code",
   "execution_count": null,
   "id": "4a1712fd",
   "metadata": {},
   "outputs": [],
   "source": []
  }
 ],
 "metadata": {
  "kernelspec": {
   "display_name": "Python 3 (ipykernel)",
   "language": "python",
   "name": "python3"
  },
  "language_info": {
   "codemirror_mode": {
    "name": "ipython",
    "version": 3
   },
   "file_extension": ".py",
   "mimetype": "text/x-python",
   "name": "python",
   "nbconvert_exporter": "python",
   "pygments_lexer": "ipython3",
   "version": "3.9.7"
  }
 },
 "nbformat": 4,
 "nbformat_minor": 5
}
